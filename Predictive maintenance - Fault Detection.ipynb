{
 "cells": [
  {
   "cell_type": "markdown",
   "metadata": {},
   "source": [
    "# Introduction to Predictive Maintenance\n",
    "\n",
    "#### Author Nagdev Amruthnath\n",
    "Date: 1/9/2019\n",
    "\n",
    "##### Citation Info\n",
    "If you are using this for your research, please use the following for citation. \n",
    "\n",
    "Amruthnath, Nagdev, and Tarun Gupta. \"A research study on unsupervised machine learning algorithms for early fault detection in predictive maintenance.\" In 2018 5th International Conference on Industrial Engineering and Applications (ICIEA), pp. 355-361. IEEE, 2018.\n",
    "\n",
    "##### Disclaimer\n",
    "This is a tutorial for performing fault detection using machine learning. You this code at your own risk. I do not gurantee that this would work as shown below. If you have any suggestions please branch this project.\n",
    "\n",
    "## Introduction\n",
    "This is the first of four part demostration series of using machine learning for predictive maintenance.   \n",
    "\n",
    "The area of predictive maintenance has taken a lot of prominence in the last couple of years due to various reasons. With new algorithms and methodologies growing across different learning methods, it has remained a challenge for industries to adopt which method is fit, robust and provide most accurate detection. Fault detection is one of the critical components of predictive maintenance; it is very much needed for industries to detect faults early and accurately. In a production environment, to minimize the cost of maintenance, sometimes it is required to build a model with minimal or no historical data. In such cases, unsupervised learning would be a better option model building. In this paper, we have chosen a simple vibration data collected from an exhaust fan, and have fit different unsupervised learning algorithms such as PCA T2 statistic, Hierarchical clustering, K-Means, Fuzzy C-Means clustering and model-based clustering to test its accuracy, performance, and robustness. In the end, we have proposed a methodology to benchmark different algorithms and choosing the final model\n",
    "\n",
    "\n",
    "## Load libraries "
   ]
  },
  {
   "cell_type": "code",
   "execution_count": 15,
   "metadata": {
    "ExecuteTime": {
     "end_time": "2019-01-09T21:52:03.700594Z",
     "start_time": "2019-01-09T21:52:03.648Z"
    }
   },
   "outputs": [],
   "source": [
    "# load libraries\n",
    "library(mdatools) #mdatools version 0.9.1\n",
    "library(caret)\n",
    "library(foreach)\n",
    "library(dplyr)\n",
    "library(mclust)"
   ]
  },
  {
   "cell_type": "markdown",
   "metadata": {},
   "source": [
    "## Load data\n",
    "Here we are using data from a bench press. There are total of four different states in this machine and they are split into four different csv files. We need to load the data first. In the data time represents the time between samples, ax is the acceleration on x axis, ay is the acceleration on y axis, az is the acceleration on z axis and at is the G's. The data was collected at sample rate of 100hz.   \n",
    "\n",
    "Four different states of the machine were collected  \n",
    "1. Nothing attached to drill press\n",
    "2. Wooden base attached to drill press\n",
    "3. Imbalance created by adding weight to one end of wooden base\n",
    "4. Imbalacne created by adding weight to two ends of wooden base."
   ]
  },
  {
   "cell_type": "code",
   "execution_count": 2,
   "metadata": {
    "ExecuteTime": {
     "end_time": "2019-01-09T21:50:39.856426Z",
     "start_time": "2019-01-09T21:50:35.415Z"
    }
   },
   "outputs": [
    {
     "data": {
      "text/html": [
       "<table>\n",
       "<thead><tr><th scope=col>time</th><th scope=col>ax</th><th scope=col>ay</th><th scope=col>az</th><th scope=col>aT</th></tr></thead>\n",
       "<tbody>\n",
       "\t<tr><td>0.002  </td><td>-0.3246</td><td> 0.2748</td><td> 0.1502</td><td>0.451  </td></tr>\n",
       "\t<tr><td>0.009  </td><td> 0.6020</td><td>-0.1900</td><td>-0.3227</td><td>0.709  </td></tr>\n",
       "\t<tr><td>0.019  </td><td> 0.9787</td><td> 0.3258</td><td> 0.0124</td><td>1.032  </td></tr>\n",
       "\t<tr><td>0.027  </td><td> 0.6141</td><td>-0.4179</td><td> 0.0471</td><td>0.744  </td></tr>\n",
       "\t<tr><td>0.038  </td><td>-0.3218</td><td>-0.6389</td><td>-0.4259</td><td>0.833  </td></tr>\n",
       "\t<tr><td>0.047  </td><td>-0.3607</td><td> 0.1332</td><td>-0.1291</td><td>0.406  </td></tr>\n",
       "</tbody>\n",
       "</table>\n"
      ],
      "text/latex": [
       "\\begin{tabular}{r|lllll}\n",
       " time & ax & ay & az & aT\\\\\n",
       "\\hline\n",
       "\t 0.002   & -0.3246 &  0.2748 &  0.1502 & 0.451  \\\\\n",
       "\t 0.009   &  0.6020 & -0.1900 & -0.3227 & 0.709  \\\\\n",
       "\t 0.019   &  0.9787 &  0.3258 &  0.0124 & 1.032  \\\\\n",
       "\t 0.027   &  0.6141 & -0.4179 &  0.0471 & 0.744  \\\\\n",
       "\t 0.038   & -0.3218 & -0.6389 & -0.4259 & 0.833  \\\\\n",
       "\t 0.047   & -0.3607 &  0.1332 & -0.1291 & 0.406  \\\\\n",
       "\\end{tabular}\n"
      ],
      "text/markdown": [
       "\n",
       "time | ax | ay | az | aT | \n",
       "|---|---|---|---|---|---|\n",
       "| 0.002   | -0.3246 |  0.2748 |  0.1502 | 0.451   | \n",
       "| 0.009   |  0.6020 | -0.1900 | -0.3227 | 0.709   | \n",
       "| 0.019   |  0.9787 |  0.3258 |  0.0124 | 1.032   | \n",
       "| 0.027   |  0.6141 | -0.4179 |  0.0471 | 0.744   | \n",
       "| 0.038   | -0.3218 | -0.6389 | -0.4259 | 0.833   | \n",
       "| 0.047   | -0.3607 |  0.1332 | -0.1291 | 0.406   | \n",
       "\n",
       "\n"
      ],
      "text/plain": [
       "  time  ax      ay      az      aT   \n",
       "1 0.002 -0.3246  0.2748  0.1502 0.451\n",
       "2 0.009  0.6020 -0.1900 -0.3227 0.709\n",
       "3 0.019  0.9787  0.3258  0.0124 1.032\n",
       "4 0.027  0.6141 -0.4179  0.0471 0.744\n",
       "5 0.038 -0.3218 -0.6389 -0.4259 0.833\n",
       "6 0.047 -0.3607  0.1332 -0.1291 0.406"
      ]
     },
     "metadata": {},
     "output_type": "display_data"
    }
   ],
   "source": [
    "file1 = read.csv(\"c:/Jupyter/Data/Experiment/dry run.csv\", sep=\",\", header =T)\n",
    "file2 = read.csv(\"c:/Jupyter/Data/Experiment/base.csv\", sep=\",\", header =T)\n",
    "file3 = read.csv(\"c:/Jupyter/Data/Experiment/imbalance 1.csv\", sep=\",\", header =T)\n",
    "file4 = read.csv(\"c:/Jupyter/Data/Experiment/imbalance 2.csv\", sep=\",\", header =T)\n",
    "head(file1)"
   ]
  },
  {
   "cell_type": "markdown",
   "metadata": {},
   "source": [
    "We can look at the summary of each file using summary function in R. Below, we can observe that 66 seconds long data is available. We also have min, max and mean for each of the variables. "
   ]
  },
  {
   "cell_type": "code",
   "execution_count": 3,
   "metadata": {
    "ExecuteTime": {
     "end_time": "2019-01-09T21:50:39.934426Z",
     "start_time": "2019-01-09T21:50:35.418Z"
    }
   },
   "outputs": [
    {
     "data": {
      "text/plain": [
       "      time              ax                 ay                  az         \n",
       " Min.   : 0.002   Min.   :-2.11880   Min.   :-2.143600   Min.   :-4.1744  \n",
       " 1st Qu.:16.507   1st Qu.:-0.41478   1st Qu.:-0.625250   1st Qu.:-0.7359  \n",
       " Median :33.044   Median : 0.02960   Median :-0.022050   Median :-0.1468  \n",
       " Mean   :33.037   Mean   : 0.01233   Mean   : 0.008697   Mean   :-0.1021  \n",
       " 3rd Qu.:49.535   3rd Qu.: 0.46003   3rd Qu.: 0.641700   3rd Qu.: 0.4298  \n",
       " Max.   :66.033   Max.   : 2.09620   Max.   : 2.003000   Max.   : 4.9466  \n",
       "       aT       \n",
       " Min.   :0.032  \n",
       " 1st Qu.:0.848  \n",
       " Median :1.169  \n",
       " Mean   :1.277  \n",
       " 3rd Qu.:1.579  \n",
       " Max.   :5.013  "
      ]
     },
     "metadata": {},
     "output_type": "display_data"
    }
   ],
   "source": [
    "# summary of each file\n",
    "summary(file1)"
   ]
  },
  {
   "cell_type": "markdown",
   "metadata": {},
   "source": [
    "## Data Aggregration and feature extraction\n",
    "Here, the data is aggregated by 1 minute and features are extracted. Features are extracted to reduce the dimension of the data and only storing the representation of the data. "
   ]
  },
  {
   "cell_type": "code",
   "execution_count": 4,
   "metadata": {
    "ExecuteTime": {
     "end_time": "2019-01-09T21:50:40.370435Z",
     "start_time": "2019-01-09T21:50:35.422Z"
    }
   },
   "outputs": [
    {
     "data": {
      "text/html": [
       "<table>\n",
       "<thead><tr><th scope=col>group</th><th scope=col>ax_mean</th><th scope=col>ax_sd</th><th scope=col>ax_min</th><th scope=col>ax_max</th><th scope=col>ax_median</th><th scope=col>ay_mean</th><th scope=col>ay_sd</th><th scope=col>ay_min</th><th scope=col>ay_may</th><th scope=col>...</th><th scope=col>az_mean</th><th scope=col>az_sd</th><th scope=col>az_min</th><th scope=col>az_maz</th><th scope=col>az_median</th><th scope=col>aT_mean</th><th scope=col>aT_sd</th><th scope=col>aT_min</th><th scope=col>aT_maT</th><th scope=col>aT_median</th></tr></thead>\n",
       "<tbody>\n",
       "\t<tr><td>0            </td><td>-0.038164706 </td><td>0.6594686    </td><td>-1.2587      </td><td>1.3821       </td><td>-0.0955      </td><td>-0.0682627451</td><td>0.7506785    </td><td>-1.3892      </td><td>1.6418       </td><td>...          </td><td>-0.13803333  </td><td>0.9845115    </td><td>-2.6753      </td><td>2.7507       </td><td> 0.0254      </td><td>1.273216     </td><td>0.5830149    </td><td>0.400        </td><td>3.029        </td><td>1.0770       </td></tr>\n",
       "\t<tr><td>1            </td><td>-0.005806122 </td><td>0.6325808    </td><td>-1.6194      </td><td>1.1943       </td><td>-0.0015      </td><td> 0.0037908163</td><td>0.7819044    </td><td>-1.5625      </td><td>1.5428       </td><td>...          </td><td>-0.20496837  </td><td>0.9252188    </td><td>-3.0774      </td><td>2.7158       </td><td>-0.2121      </td><td>1.263622     </td><td>0.5448447    </td><td>0.410        </td><td>3.197        </td><td>1.1375       </td></tr>\n",
       "\t<tr><td>2            </td><td> 0.069845455 </td><td>0.6665500    </td><td>-1.4554      </td><td>1.4667       </td><td> 0.1070      </td><td> 0.0744333333</td><td>0.8022922    </td><td>-1.4800      </td><td>1.7951       </td><td>...          </td><td>-0.06405354  </td><td>0.9293866    </td><td>-1.8205      </td><td>2.4862       </td><td>-0.1512      </td><td>1.298364     </td><td>0.5131552    </td><td>0.255        </td><td>2.644        </td><td>1.2830       </td></tr>\n",
       "\t<tr><td>3            </td><td> 0.011552525 </td><td>0.5511310    </td><td>-1.9254      </td><td>1.2034       </td><td> 0.0675      </td><td> 0.0008262626</td><td>0.7894209    </td><td>-2.0042      </td><td>1.5577       </td><td>...          </td><td>-0.09287879  </td><td>0.8893505    </td><td>-2.1562      </td><td>3.2355       </td><td>-0.1672      </td><td>1.203848     </td><td>0.5125826    </td><td>0.393        </td><td>3.322        </td><td>1.1180       </td></tr>\n",
       "\t<tr><td>4            </td><td> 0.046688119 </td><td>0.6426574    </td><td>-1.7805      </td><td>1.4837       </td><td> 0.0836      </td><td>-0.0177594059</td><td>0.7510811    </td><td>-1.6629      </td><td>1.4369       </td><td>...          </td><td>-0.13990000  </td><td>0.9265720    </td><td>-1.8515      </td><td>3.5451       </td><td>-0.1741      </td><td>1.226267     </td><td>0.5824608    </td><td>0.313        </td><td>3.597        </td><td>1.1720       </td></tr>\n",
       "\t<tr><td>5            </td><td> 0.006678788 </td><td>0.5780957    </td><td>-1.4719      </td><td>1.4355       </td><td> 0.0536      </td><td> 0.0013626263</td><td>0.7812245    </td><td>-1.6293      </td><td>1.6362       </td><td>...          </td><td>-0.16540000  </td><td>0.9091516    </td><td>-2.5561      </td><td>2.9196       </td><td>-0.2588      </td><td>1.209515     </td><td>0.5664847    </td><td>0.336        </td><td>3.035        </td><td>1.1590       </td></tr>\n",
       "</tbody>\n",
       "</table>\n"
      ],
      "text/latex": [
       "\\begin{tabular}{r|lllllllllllllllllllll}\n",
       " group & ax\\_mean & ax\\_sd & ax\\_min & ax\\_max & ax\\_median & ay\\_mean & ay\\_sd & ay\\_min & ay\\_may & ... & az\\_mean & az\\_sd & az\\_min & az\\_maz & az\\_median & aT\\_mean & aT\\_sd & aT\\_min & aT\\_maT & aT\\_median\\\\\n",
       "\\hline\n",
       "\t 0             & -0.038164706  & 0.6594686     & -1.2587       & 1.3821        & -0.0955       & -0.0682627451 & 0.7506785     & -1.3892       & 1.6418        & ...           & -0.13803333   & 0.9845115     & -2.6753       & 2.7507        &  0.0254       & 1.273216      & 0.5830149     & 0.400         & 3.029         & 1.0770       \\\\\n",
       "\t 1             & -0.005806122  & 0.6325808     & -1.6194       & 1.1943        & -0.0015       &  0.0037908163 & 0.7819044     & -1.5625       & 1.5428        & ...           & -0.20496837   & 0.9252188     & -3.0774       & 2.7158        & -0.2121       & 1.263622      & 0.5448447     & 0.410         & 3.197         & 1.1375       \\\\\n",
       "\t 2             &  0.069845455  & 0.6665500     & -1.4554       & 1.4667        &  0.1070       &  0.0744333333 & 0.8022922     & -1.4800       & 1.7951        & ...           & -0.06405354   & 0.9293866     & -1.8205       & 2.4862        & -0.1512       & 1.298364      & 0.5131552     & 0.255         & 2.644         & 1.2830       \\\\\n",
       "\t 3             &  0.011552525  & 0.5511310     & -1.9254       & 1.2034        &  0.0675       &  0.0008262626 & 0.7894209     & -2.0042       & 1.5577        & ...           & -0.09287879   & 0.8893505     & -2.1562       & 3.2355        & -0.1672       & 1.203848      & 0.5125826     & 0.393         & 3.322         & 1.1180       \\\\\n",
       "\t 4             &  0.046688119  & 0.6426574     & -1.7805       & 1.4837        &  0.0836       & -0.0177594059 & 0.7510811     & -1.6629       & 1.4369        & ...           & -0.13990000   & 0.9265720     & -1.8515       & 3.5451        & -0.1741       & 1.226267      & 0.5824608     & 0.313         & 3.597         & 1.1720       \\\\\n",
       "\t 5             &  0.006678788  & 0.5780957     & -1.4719       & 1.4355        &  0.0536       &  0.0013626263 & 0.7812245     & -1.6293       & 1.6362        & ...           & -0.16540000   & 0.9091516     & -2.5561       & 2.9196        & -0.2588       & 1.209515      & 0.5664847     & 0.336         & 3.035         & 1.1590       \\\\\n",
       "\\end{tabular}\n"
      ],
      "text/markdown": [
       "\n",
       "group | ax_mean | ax_sd | ax_min | ax_max | ax_median | ay_mean | ay_sd | ay_min | ay_may | ... | az_mean | az_sd | az_min | az_maz | az_median | aT_mean | aT_sd | aT_min | aT_maT | aT_median | \n",
       "|---|---|---|---|---|---|\n",
       "| 0             | -0.038164706  | 0.6594686     | -1.2587       | 1.3821        | -0.0955       | -0.0682627451 | 0.7506785     | -1.3892       | 1.6418        | ...           | -0.13803333   | 0.9845115     | -2.6753       | 2.7507        |  0.0254       | 1.273216      | 0.5830149     | 0.400         | 3.029         | 1.0770        | \n",
       "| 1             | -0.005806122  | 0.6325808     | -1.6194       | 1.1943        | -0.0015       |  0.0037908163 | 0.7819044     | -1.5625       | 1.5428        | ...           | -0.20496837   | 0.9252188     | -3.0774       | 2.7158        | -0.2121       | 1.263622      | 0.5448447     | 0.410         | 3.197         | 1.1375        | \n",
       "| 2             |  0.069845455  | 0.6665500     | -1.4554       | 1.4667        |  0.1070       |  0.0744333333 | 0.8022922     | -1.4800       | 1.7951        | ...           | -0.06405354   | 0.9293866     | -1.8205       | 2.4862        | -0.1512       | 1.298364      | 0.5131552     | 0.255         | 2.644         | 1.2830        | \n",
       "| 3             |  0.011552525  | 0.5511310     | -1.9254       | 1.2034        |  0.0675       |  0.0008262626 | 0.7894209     | -2.0042       | 1.5577        | ...           | -0.09287879   | 0.8893505     | -2.1562       | 3.2355        | -0.1672       | 1.203848      | 0.5125826     | 0.393         | 3.322         | 1.1180        | \n",
       "| 4             |  0.046688119  | 0.6426574     | -1.7805       | 1.4837        |  0.0836       | -0.0177594059 | 0.7510811     | -1.6629       | 1.4369        | ...           | -0.13990000   | 0.9265720     | -1.8515       | 3.5451        | -0.1741       | 1.226267      | 0.5824608     | 0.313         | 3.597         | 1.1720        | \n",
       "| 5             |  0.006678788  | 0.5780957     | -1.4719       | 1.4355        |  0.0536       |  0.0013626263 | 0.7812245     | -1.6293       | 1.6362        | ...           | -0.16540000   | 0.9091516     | -2.5561       | 2.9196        | -0.2588       | 1.209515      | 0.5664847     | 0.336         | 3.035         | 1.1590        | \n",
       "\n",
       "\n"
      ],
      "text/plain": [
       "  group ax_mean      ax_sd     ax_min  ax_max ax_median ay_mean       ay_sd    \n",
       "1 0     -0.038164706 0.6594686 -1.2587 1.3821 -0.0955   -0.0682627451 0.7506785\n",
       "2 1     -0.005806122 0.6325808 -1.6194 1.1943 -0.0015    0.0037908163 0.7819044\n",
       "3 2      0.069845455 0.6665500 -1.4554 1.4667  0.1070    0.0744333333 0.8022922\n",
       "4 3      0.011552525 0.5511310 -1.9254 1.2034  0.0675    0.0008262626 0.7894209\n",
       "5 4      0.046688119 0.6426574 -1.7805 1.4837  0.0836   -0.0177594059 0.7510811\n",
       "6 5      0.006678788 0.5780957 -1.4719 1.4355  0.0536    0.0013626263 0.7812245\n",
       "  ay_min  ay_may ... az_mean     az_sd     az_min  az_maz az_median aT_mean \n",
       "1 -1.3892 1.6418 ... -0.13803333 0.9845115 -2.6753 2.7507  0.0254   1.273216\n",
       "2 -1.5625 1.5428 ... -0.20496837 0.9252188 -3.0774 2.7158 -0.2121   1.263622\n",
       "3 -1.4800 1.7951 ... -0.06405354 0.9293866 -1.8205 2.4862 -0.1512   1.298364\n",
       "4 -2.0042 1.5577 ... -0.09287879 0.8893505 -2.1562 3.2355 -0.1672   1.203848\n",
       "5 -1.6629 1.4369 ... -0.13990000 0.9265720 -1.8515 3.5451 -0.1741   1.226267\n",
       "6 -1.6293 1.6362 ... -0.16540000 0.9091516 -2.5561 2.9196 -0.2588   1.209515\n",
       "  aT_sd     aT_min aT_maT aT_median\n",
       "1 0.5830149 0.400  3.029  1.0770   \n",
       "2 0.5448447 0.410  3.197  1.1375   \n",
       "3 0.5131552 0.255  2.644  1.2830   \n",
       "4 0.5125826 0.393  3.322  1.1180   \n",
       "5 0.5824608 0.313  3.597  1.1720   \n",
       "6 0.5664847 0.336  3.035  1.1590   "
      ]
     },
     "metadata": {},
     "output_type": "display_data"
    }
   ],
   "source": [
    "file1$group = as.factor(round(file1$time))\n",
    "file2$group = as.factor(round(file2$time))\n",
    "file3$group = as.factor(round(file3$time))\n",
    "file4$group = as.factor(round(file4$time))\n",
    "#(file1,20)\n",
    "\n",
    "#list of all files\n",
    "files = list(file1, file2, file3, file4)\n",
    "\n",
    "#loop through all files and combine\n",
    "features = NULL\n",
    "for (i in 1:4){\n",
    "res = files[[i]] %>%\n",
    "    group_by(group) %>%\n",
    "    summarize(ax_mean = mean(ax),\n",
    "              ax_sd = sd(ax),\n",
    "              ax_min = min(ax),\n",
    "              ax_max = max(ax),\n",
    "              ax_median = median(ax),\n",
    "              ay_mean = mean(ay),\n",
    "              ay_sd = sd(ay),\n",
    "              ay_min = min(ay),\n",
    "              ay_may = max(ay),\n",
    "              ay_median = median(ay),\n",
    "              az_mean = mean(az),\n",
    "              az_sd = sd(az),\n",
    "              az_min = min(az),\n",
    "              az_maz = max(az),\n",
    "              az_median = median(az),\n",
    "              aT_mean = mean(aT),\n",
    "              aT_sd = sd(aT),\n",
    "              aT_min = min(aT),\n",
    "              aT_maT = max(aT),\n",
    "              aT_median = median(aT)\n",
    "             )\n",
    "    features = rbind(features, res)\n",
    "}\n",
    "\n",
    "#view all features\n",
    "head(features)"
   ]
  },
  {
   "cell_type": "markdown",
   "metadata": {},
   "source": [
    "## Analyzing the data through plots\n",
    "Plot all mean values to analyze the change in vibrations. From the first 3 plots we can observe that its very hard to analyze any significant change in vibration for all 4 states of the machines. On the other hand for the fourth plot we can identify 2 states of the machine. "
   ]
  },
  {
   "cell_type": "code",
   "execution_count": 5,
   "metadata": {
    "ExecuteTime": {
     "end_time": "2019-01-09T21:50:40.521435Z",
     "start_time": "2019-01-09T21:50:35.426Z"
    }
   },
   "outputs": [
    {
     "data": {
      "image/png": "[encoded data removed]",
      "text/plain": [
       "Plot with title \"T mean\""
      ]
     },
     "metadata": {},
     "output_type": "display_data"
    }
   ],
   "source": [
    "#plot data\n",
    "par(mfrow=c(4,1))\n",
    "plot(features$ax_mean, main=\"X-Axis mean\", xlab=\"Observations\", ylab=\"G's\", type=\"l\", col=\"blue\")\n",
    "plot(features$ay_mean, main=\"Y-Axis mean\", xlab=\"Observations\", ylab=\"G's\", type=\"l\", col=\"blue\")\n",
    "plot(features$az_mean, main=\"Z-Axis mean\", xlab=\"Observations\", ylab=\"G's\", type=\"l\", col=\"blue\")\n",
    "plot(features$aT_mean, main=\"T mean\", xlab=\"Observations\", ylab=\"G's\", type=\"l\", col=\"blue\")"
   ]
  },
  {
   "cell_type": "markdown",
   "metadata": {},
   "source": [
    "## Fault Detection using PCA-T2 and SPE\n",
    "Principal component analysis (PCA) is a mathematical algorithm that reduces the dimensionality of the data while retaining most of the variation (information) in the data set. T2 Statistic is a multivariate statistical analysis. SPE also referred to a Q-statistic is the square prediction error. "
   ]
  },
  {
   "cell_type": "code",
   "execution_count": 6,
   "metadata": {
    "ExecuteTime": {
     "end_time": "2019-01-09T21:50:40.564440Z",
     "start_time": "2019-01-09T21:50:35.429Z"
    }
   },
   "outputs": [],
   "source": [
    "pca = function(train,test,variance, alpha,gamma) {\n",
    "\n",
    "  #remove columns with zero variance\n",
    "  train = train[sapply(train, function(x) length(levels(factor(x)))>1)]\n",
    "\n",
    "  # calculate the pre-process parameters from the dataset\n",
    "  preprocessParams = preProcess(train,\n",
    "                                method=c(\"center\", \"scale\"))\n",
    "  # transform the dataset using the parameters\n",
    "  traintransformed = predict(preprocessParams, train)\n",
    "  testtransformed = predict(preprocessParams, test[,colnames(train)])\n",
    "\n",
    "  #calibrate data for\n",
    "  pca.model = mdatools::pca(x = traintransformed,\n",
    "                            x.test = testtransformed,\n",
    "                            alpha = alpha,\n",
    "                            gamma = gamma,\n",
    "                            ncomp = ncol(train))\n",
    "\n",
    "  for(i in 1:ncol(train)){\n",
    "    if(pca.model$calres$cumexpvar[i] >= variance) { break }\n",
    "  }\n",
    "\n",
    "  trainRes = data.frame(train,\n",
    "                        T2stats = pca.model$calres$T2[,i],\n",
    "                        T2critical = pca.model$calres$T2lim[1,i],\n",
    "                        T2outlier = pca.model$calres$T2lim[2,i],\n",
    "                        SPEstats = pca.model$calres$Q[,i],\n",
    "                        SPEcritical = pca.model$calres$Qlim[1,i],\n",
    "                        SPEoutlier = pca.model$calres$Qlim[2,i]\n",
    "  )\n",
    "  testRes = data.frame(test[,colnames(train)],\n",
    "                       T2stats = pca.model$testres$T2[,i],\n",
    "                       T2critical = pca.model$testres$T2lim[1,i],\n",
    "                       T2outlier = pca.model$testres$T2lim[2,i],\n",
    "                       SPEstats = pca.model$testres$Q[,i],\n",
    "                       SPEcritical = pca.model$testres$Qlim[1,i],\n",
    "                       SPEoutlier = pca.model$testres$Qlim[2,i]\n",
    "  )\n",
    "\n",
    "  return(rbind(trainRes,testRes))\n",
    "\n",
    "}"
   ]
  },
  {
   "cell_type": "markdown",
   "metadata": {},
   "source": [
    "The above function is the generalized function for using PCA analysis for performing anomaly detection. The input variables are the train data, test data, alpha value, gamma value and variance among principal components. "
   ]
  },
  {
   "cell_type": "code",
   "execution_count": 7,
   "metadata": {
    "ExecuteTime": {
     "end_time": "2019-01-09T21:50:41.173442Z",
     "start_time": "2019-01-09T21:50:35.432Z"
    }
   },
   "outputs": [],
   "source": [
    "train = features[1:67,2:ncol(features)]\n",
    "test = features[68:nrow(features),2:ncol(features)]\n",
    "alpha = 0.05\n",
    "gamma = 0.01\n",
    "variance = 0.95\n",
    "\n",
    "#call pca function\n",
    "pca_result = pca(train,test,variance, alpha,gamma)"
   ]
  },
  {
   "cell_type": "markdown",
   "metadata": {},
   "source": [
    "The below are the graphial results for PCA analysis. From the PCA-T2 results, we can observe that the annomaly model was capable of detecting the annomalies. Likewise PCA-SPE model was capable of detecting the anomalies as well. "
   ]
  },
  {
   "cell_type": "code",
   "execution_count": 8,
   "metadata": {
    "ExecuteTime": {
     "end_time": "2019-01-09T21:50:41.425452Z",
     "start_time": "2019-01-09T21:50:35.435Z"
    }
   },
   "outputs": [
    {
     "data": {
      "image/png": "[encoded data removed]",
      "text/plain": [
       "Plot with title \"PCA SPE Result\""
      ]
     },
     "metadata": {},
     "output_type": "display_data"
    }
   ],
   "source": [
    "#plot results\n",
    "par(mfrow=c(2,1))\n",
    "plot(pca_result$T2stats, main=\"PCA T2 Result\", ylab=\"stats\", xlab=\"observations\", col=\"blue\", type=\"o\")\n",
    "abline(h=pca_result$T2critical, col=\"black\")\n",
    "abline(h=pca_result$T2outlier, col=\"red\")\n",
    "\n",
    "plot(pca_result$SPEstats, main=\"PCA SPE Result\", ylab=\"stats\", xlab=\"observations\", col=\"blue\", type=\"o\")\n",
    "abline(h=pca_result$SPEcritical, col=\"black\")\n",
    "abline(h=pca_result$SPEoutlier, col=\"red\")"
   ]
  },
  {
   "cell_type": "markdown",
   "metadata": {},
   "source": [
    "## Fault detection using K-means\n",
    "K-means is one of the most common unsupervised learning clustering algorithms. This most straightforward algorithm’s goal is to divide the data set into pre-determined clusters based on distance. Here, we have used Euclidian distance."
   ]
  },
  {
   "cell_type": "code",
   "execution_count": 9,
   "metadata": {
    "ExecuteTime": {
     "end_time": "2019-01-09T21:50:41.474446Z",
     "start_time": "2019-01-09T21:50:35.439Z"
    }
   },
   "outputs": [],
   "source": [
    "kmeans = function(train, usePCA, variance) {\n",
    "  #remove columns with zero variance\n",
    "  train = train[sapply(train, function(x) length(levels(factor(x)))>1)]\n",
    "\n",
    "  if(usePCA == TRUE){\n",
    "    # calculate the pre-process parameters from the dataset\n",
    "    preprocessParams = preProcess(train,\n",
    "                                  method=c(\"center\", \"scale\", \"pca\"),\n",
    "                                  thresh = variance,\n",
    "                                  na.remove = T,\n",
    "                                  freqCut = 95/5,\n",
    "                                  uniqueCut = 10\n",
    "    )\n",
    "    # transform the dataset using the parameters\n",
    "    transformed = predict(preprocessParams, train)\n",
    "\n",
    "    kmRes = stats::kmeans(as.matrix(transformed),2)\n",
    "\n",
    "    return(data.frame(train,cluster=kmRes$cluster))\n",
    "  }\n",
    "\n",
    "  if(usePCA == FALSE){\n",
    "    # calculate the pre-process parameters from the dataset\n",
    "    preprocessParams = preProcess(train,\n",
    "                                  method=c(\"center\", \"scale\"),\n",
    "                                  na.remove = T\n",
    "    )\n",
    "    # transform the dataset using the parameters\n",
    "    transformed = predict(preprocessParams, train)\n",
    "\n",
    "    kmRes = stats::kmeans(transformed,2)\n",
    "\n",
    "    return(data.frame(train,cluster=kmRes$cluster))\n",
    "  }\n",
    "}"
   ]
  },
  {
   "cell_type": "code",
   "execution_count": 10,
   "metadata": {
    "ExecuteTime": {
     "end_time": "2019-01-09T21:50:42.072481Z",
     "start_time": "2019-01-09T21:50:35.442Z"
    }
   },
   "outputs": [],
   "source": [
    "#Anomaly detection without PCA\n",
    "train = features[,2:ncol(features)]\n",
    "usePCA = FALSE\n",
    "Variance = 0.95\n",
    "kmeans_res = kmeans(train, usePCA, variance)\n",
    "\n",
    "#Anomaly detection with PCA\n",
    "usePCA = TRUE\n",
    "kmeans_pca_res = kmeans(train, usePCA, variance)"
   ]
  },
  {
   "cell_type": "markdown",
   "metadata": {},
   "source": [
    "Using the genralized function developed above, kmeans is used in two ways with and without PCA. In both the cases from the graphical results, we can observe that kmeans was capable of detecting the anomalies. Also, it is interesting to not that, kmeans grouped data in file 1 and file 2 and one state and file 3 and file 4 as other state. "
   ]
  },
  {
   "cell_type": "code",
   "execution_count": 11,
   "metadata": {
    "ExecuteTime": {
     "end_time": "2019-01-09T21:50:42.224462Z",
     "start_time": "2019-01-09T21:50:35.446Z"
    }
   },
   "outputs": [
    {
     "data": {
      "image/png": "[encoded data removed]",
      "text/plain": [
       "Plot with title \"Kmeans PCA Result\""
      ]
     },
     "metadata": {},
     "output_type": "display_data"
    }
   ],
   "source": [
    "#plot results\n",
    "par(mfrow=c(2,1))\n",
    "pca.model = prcomp(train, scale=T)\n",
    "\n",
    "plot(features$az_mean, features$aT_mean , main=\"Kmeans Result\", ylab=\"az_mean\", xlab=\"aT_mean\", col=kmeans_res$cluster ,yaxt = 'n')\n",
    "\n",
    "plot(pca.model$x, main=\"Kmeans PCA Result\", ylab=\"PC 2\", xlab=\"PC 1\", col=kmeans_pca_res$cluster, yaxt = 'n')\n"
   ]
  },
  {
   "cell_type": "markdown",
   "metadata": {},
   "source": [
    "# Fault Detection using Model Based clustering\n",
    "A Gaussian mixture model (GMM) is used for modeling data that comes from one of the several groups: the groups might be different from each other, but data points within the same group can be well-modeled by a Gaussian distribution . Gaussian finite mixture model fitted by EM algorithm is an iterative algorithm where some initial random estimate starts and updates every iterate until convergence is detected . Initialization can be started based on a set of initial parameters and start E-step or set of initial weights and proceed to M-step. This step can be either set randomly or could be chosen based on some method."
   ]
  },
  {
   "cell_type": "code",
   "execution_count": 12,
   "metadata": {
    "ExecuteTime": {
     "end_time": "2019-01-09T21:50:42.265456Z",
     "start_time": "2019-01-09T21:50:35.449Z"
    }
   },
   "outputs": [],
   "source": [
    "gmm = function(train, usePCA, variance, n) {\n",
    "  #remove columns with zero variance\n",
    "  train = train[sapply(train, function(x) length(levels(factor(x)))>1)]\n",
    "  M = nrow(train)/4\n",
    "  if(usePCA == TRUE){\n",
    "    # calculate the pre-process parameters from the dataset\n",
    "    preprocessParams = preProcess(train,\n",
    "                                  method=c(\"center\", \"scale\", \"pca\"),\n",
    "                                  thresh = variance,\n",
    "                                  na.remove = T,\n",
    "                                  freqCut = 95/5,\n",
    "                                  uniqueCut = 10\n",
    "    )\n",
    "    # transform the dataset using the parameters\n",
    "    traintransformed = predict(preprocessParams, train)\n",
    "\n",
    "    m = densityMclust(traintransformed,\n",
    "                      G = n,\n",
    "                      initialization = list(subset = sample(1:nrow(traintransformed),\n",
    "                                                            size = M),\n",
    "                                            set.seed(11)))\n",
    "\n",
    "    traintransformed$y = m$classification\n",
    "    return(data.frame(traintransformed, m$z))\n",
    "  }\n",
    "\n",
    "  if(usePCA == FALSE){\n",
    "    # calculate the pre-process parameters from the dataset\n",
    "    preprocessParams = preProcess(train,\n",
    "                                  method=c(\"center\", \"scale\"),\n",
    "                                  na.remove = T\n",
    "    )\n",
    "    # transform the dataset using the parameters\n",
    "    traintransformed = predict(preprocessParams, train)\n",
    "\n",
    "    m = densityMclust(traintransformed,\n",
    "                      G = n,\n",
    "                      initialization = list(subset = sample(1:nrow(traintransformed),\n",
    "                                                            size = M),\n",
    "                                            set.seed(11)))\n",
    "\n",
    "    traintransformed$y = m$classification\n",
    "    return(data.frame(traintransformed, m$z))\n",
    "  }\n",
    "}"
   ]
  },
  {
   "cell_type": "code",
   "execution_count": 13,
   "metadata": {
    "ExecuteTime": {
     "end_time": "2019-01-09T21:51:00.985095Z",
     "start_time": "2019-01-09T21:50:35.452Z"
    }
   },
   "outputs": [],
   "source": [
    "#Anomaly detection without PCA\n",
    "train = features[,2:ncol(features)]\n",
    "usePCA = FALSE\n",
    "variance = 0.95\n",
    "n = 2\n",
    "gmm_res = gmm(train, usePCA, variance, n)\n",
    "\n",
    "#Anomaly detection with PCA\n",
    "usePCA = TRUE\n",
    "gmm_pca_res = gmm(train, usePCA, variance, n)"
   ]
  },
  {
   "cell_type": "markdown",
   "metadata": {
    "ExecuteTime": {
     "end_time": "2019-01-09T21:40:05.605850Z",
     "start_time": "2019-01-09T21:40:05.553Z"
    }
   },
   "source": [
    "Using the genralized function developed above, GMM is used in two ways with and without PCA. In both the cases from the graphical results, we can observe that GMM was capable of detecting the anomalies. Also, it is interesting to not that, GMM grouped data in file 1 and file 2 and one state and file 3 and file 4 as other state."
   ]
  },
  {
   "cell_type": "code",
   "execution_count": 14,
   "metadata": {
    "ExecuteTime": {
     "end_time": "2019-01-09T21:51:01.130738Z",
     "start_time": "2019-01-09T21:50:35.461Z"
    }
   },
   "outputs": [
    {
     "data": {
      "image/png": "[encoded data removed]",
      "text/plain": [
       "Plot with title \"GMM PCA Result\""
      ]
     },
     "metadata": {},
     "output_type": "display_data"
    }
   ],
   "source": [
    "#plot results\n",
    "par(mfrow=c(2,1))\n",
    "pca.model = prcomp(train, scale=T)\n",
    "\n",
    "plot(features$az_mean, features$aT_mean , main=\"GMM Result\", ylab=\"az_mean\", xlab=\"aT_mean\", col=gmm_res$y ,yaxt = 'n')\n",
    "\n",
    "plot(pca.model$x, main=\"GMM PCA Result\", ylab=\"PC 2\", xlab=\"PC 1\", col=gmm_pca_res$y, yaxt = 'n')\n"
   ]
  },
  {
   "cell_type": "markdown",
   "metadata": {},
   "source": [
    "#### References\n",
    "\n",
    "[1] Amruthnath, Nagdev, and Tarun Gupta. \"A research study on unsupervised machine learning algorithms for early fault detection in predictive maintenance.\" In 2018 5th International Conference on Industrial Engineering and Applications (ICIEA), pp. 355-361. IEEE, 2018.\n",
    "\n",
    "[2] Amruthnath, Nagdev, and Tarun Gupta. \"Fault class prediction in unsupervised learning using model-based clustering approach.\" In Information and Computer Technologies (ICICT), 2018 International Conference on, pp. 5-12. IEEE, 2018."
   ]
  },
  {
   "cell_type": "code",
   "execution_count": null,
   "metadata": {},
   "outputs": [],
   "source": []
  }
 ],
 "metadata": {
  "kernelspec": {
   "display_name": "R 3.4",
   "language": "R",
   "name": "ir34"
  },
  "language_info": {
   "codemirror_mode": "r",
   "file_extension": ".r",
   "mimetype": "text/x-r-source",
   "name": "R",
   "pygments_lexer": "r",
   "version": "3.4.4"
  }
 },
 "nbformat": 4,
 "nbformat_minor": 2
}
