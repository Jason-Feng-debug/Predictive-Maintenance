{
 "cells": [
  {
   "cell_type": "markdown",
   "metadata": {},
   "source": [
    "\n",
    "## A Gentle Introduction to use Auto Encoders for Anomaly Detection\n",
    "#### Author Nagdev Amruthnath\n",
    "Date: 1/9/2019\n",
    "\n",
    "#### Citation Info\n",
    "If you are using this for your research, please use the following for citation.\n",
    "\n",
    "Amruthnath, Nagdev, and Tarun Gupta. \"A research study on unsupervised machine learning algorithms for early fault detection in predictive maintenance.\" In 2018 5th International Conference on Industrial Engineering and Applications (ICIEA), pp. 355-361. IEEE, 2018.\n",
    "\n",
    "#### Disclaimer\n",
    "This is a tutorial for performing fault detection using machine learning. You this code at your own risk. I do not gurantee that this would work as shown below. If you have any suggestions please branch this project.\n",
    "\n",
    "### Load Libraries"
   ]
  },
  {
   "cell_type": "code",
   "execution_count": 31,
   "metadata": {},
   "outputs": [],
   "source": [
    "options(warn=-1)\n",
    "\n",
    "# load libraries\n",
    "library(dplyr)\n",
    "library(h2o)"
   ]
  },
  {
   "cell_type": "markdown",
   "metadata": {},
   "source": [
    "\n",
    "### Load data\n",
    "Here we are using data from a bench press. There are total of four different states in this machine and they are split into four different csv files. We need to load the data first. In the data time represents the time between samples, ax is the acceleration on x axis, ay is the acceleration on y axis, az is the acceleration on z axis and at is the G's. The data was collected at sample rate of 100hz.\n",
    "\n",
    "Four different states of the machine were collected\n",
    "\n",
    "    1. Nothing attached to drill press\n",
    "    2. Wooden base attached to drill press\n",
    "    3. Imbalance created by adding weight to one end of wooden base\n",
    "    4. Imbalacne created by adding weight to two ends of wooden base."
   ]
  },
  {
   "cell_type": "code",
   "execution_count": 32,
   "metadata": {},
   "outputs": [
    {
     "data": {
      "text/html": [
       "<table>\n",
       "<caption>A data.frame: 6 × 5</caption>\n",
       "<thead>\n",
       "\t<tr><th scope=col>time</th><th scope=col>ax</th><th scope=col>ay</th><th scope=col>az</th><th scope=col>aT</th></tr>\n",
       "\t<tr><th scope=col>&lt;dbl&gt;</th><th scope=col>&lt;dbl&gt;</th><th scope=col>&lt;dbl&gt;</th><th scope=col>&lt;dbl&gt;</th><th scope=col>&lt;dbl&gt;</th></tr>\n",
       "</thead>\n",
       "<tbody>\n",
       "\t<tr><td>0.002</td><td>-0.3246</td><td> 0.2748</td><td> 0.1502</td><td>0.451</td></tr>\n",
       "\t<tr><td>0.009</td><td> 0.6020</td><td>-0.1900</td><td>-0.3227</td><td>0.709</td></tr>\n",
       "\t<tr><td>0.019</td><td> 0.9787</td><td> 0.3258</td><td> 0.0124</td><td>1.032</td></tr>\n",
       "\t<tr><td>0.027</td><td> 0.6141</td><td>-0.4179</td><td> 0.0471</td><td>0.744</td></tr>\n",
       "\t<tr><td>0.038</td><td>-0.3218</td><td>-0.6389</td><td>-0.4259</td><td>0.833</td></tr>\n",
       "\t<tr><td>0.047</td><td>-0.3607</td><td> 0.1332</td><td>-0.1291</td><td>0.406</td></tr>\n",
       "</tbody>\n",
       "</table>\n"
      ],
      "text/latex": [
       "A data.frame: 6 × 5\n",
       "\\begin{tabular}{r|lllll}\n",
       " time & ax & ay & az & aT\\\\\n",
       " <dbl> & <dbl> & <dbl> & <dbl> & <dbl>\\\\\n",
       "\\hline\n",
       "\t 0.002 & -0.3246 &  0.2748 &  0.1502 & 0.451\\\\\n",
       "\t 0.009 &  0.6020 & -0.1900 & -0.3227 & 0.709\\\\\n",
       "\t 0.019 &  0.9787 &  0.3258 &  0.0124 & 1.032\\\\\n",
       "\t 0.027 &  0.6141 & -0.4179 &  0.0471 & 0.744\\\\\n",
       "\t 0.038 & -0.3218 & -0.6389 & -0.4259 & 0.833\\\\\n",
       "\t 0.047 & -0.3607 &  0.1332 & -0.1291 & 0.406\\\\\n",
       "\\end{tabular}\n"
      ],
      "text/markdown": [
       "\n",
       "A data.frame: 6 × 5\n",
       "\n",
       "| time &lt;dbl&gt; | ax &lt;dbl&gt; | ay &lt;dbl&gt; | az &lt;dbl&gt; | aT &lt;dbl&gt; |\n",
       "|---|---|---|---|---|\n",
       "| 0.002 | -0.3246 |  0.2748 |  0.1502 | 0.451 |\n",
       "| 0.009 |  0.6020 | -0.1900 | -0.3227 | 0.709 |\n",
       "| 0.019 |  0.9787 |  0.3258 |  0.0124 | 1.032 |\n",
       "| 0.027 |  0.6141 | -0.4179 |  0.0471 | 0.744 |\n",
       "| 0.038 | -0.3218 | -0.6389 | -0.4259 | 0.833 |\n",
       "| 0.047 | -0.3607 |  0.1332 | -0.1291 | 0.406 |\n",
       "\n"
      ],
      "text/plain": [
       "  time  ax      ay      az      aT   \n",
       "1 0.002 -0.3246  0.2748  0.1502 0.451\n",
       "2 0.009  0.6020 -0.1900 -0.3227 0.709\n",
       "3 0.019  0.9787  0.3258  0.0124 1.032\n",
       "4 0.027  0.6141 -0.4179  0.0471 0.744\n",
       "5 0.038 -0.3218 -0.6389 -0.4259 0.833\n",
       "6 0.047 -0.3607  0.1332 -0.1291 0.406"
      ]
     },
     "metadata": {},
     "output_type": "display_data"
    }
   ],
   "source": [
    "setwd(\"/home/\")\n",
    "#read csv files\n",
    "file1 = read.csv(\"dry run.csv\", sep=\",\", header =T)\n",
    "file2 = read.csv(\"base.csv\", sep=\",\", header =T)\n",
    "file3 = read.csv(\"imbalance 1.csv\", sep=\",\", header =T)\n",
    "file4 = read.csv(\"imbalance 2.csv\", sep=\",\", header =T)\n",
    "head(file1)"
   ]
  },
  {
   "cell_type": "markdown",
   "metadata": {},
   "source": [
    "We can look at the summary of each file using summary function in R. Below, we can observe that 66 seconds long data is available. We also have min, max and mean for each of the variables."
   ]
  },
  {
   "cell_type": "code",
   "execution_count": 33,
   "metadata": {},
   "outputs": [
    {
     "data": {
      "text/plain": [
       "      time               ax                  ay                  az          \n",
       " Min.   :  0.004   Min.   :-1.402700   Min.   :-1.693300   Min.   :-3.18930  \n",
       " 1st Qu.: 27.005   1st Qu.:-0.311100   1st Qu.:-0.429600   1st Qu.:-0.57337  \n",
       " Median : 54.142   Median : 0.015100   Median :-0.010700   Median :-0.11835  \n",
       " Mean   : 54.086   Mean   : 0.005385   Mean   :-0.002534   Mean   :-0.09105  \n",
       " 3rd Qu.: 81.146   3rd Qu.: 0.314800   3rd Qu.: 0.419475   3rd Qu.: 0.34815  \n",
       " Max.   :108.127   Max.   : 1.771900   Max.   : 1.515600   Max.   : 5.04610  \n",
       "       aT        \n",
       " Min.   :0.0360  \n",
       " 1st Qu.:0.6270  \n",
       " Median :0.8670  \n",
       " Mean   :0.9261  \n",
       " 3rd Qu.:1.1550  \n",
       " Max.   :5.2950  "
      ]
     },
     "metadata": {},
     "output_type": "display_data"
    }
   ],
   "source": [
    "# summary of each file\n",
    "summary(file2)"
   ]
  },
  {
   "cell_type": "markdown",
   "metadata": {},
   "source": [
    "### Data Aggregration and feature extraction\n",
    "Here, the data is aggregated by 1 minute and features are extracted. Features are extracted to reduce the dimension of the data and only storing the representation of the data."
   ]
  },
  {
   "cell_type": "code",
   "execution_count": 34,
   "metadata": {},
   "outputs": [
    {
     "data": {
      "text/html": [
       "<table>\n",
       "<caption>A tibble: 6 × 21</caption>\n",
       "<thead>\n",
       "\t<tr><th scope=col>group</th><th scope=col>ax_mean</th><th scope=col>ax_sd</th><th scope=col>ax_min</th><th scope=col>ax_max</th><th scope=col>ax_median</th><th scope=col>ay_mean</th><th scope=col>ay_sd</th><th scope=col>ay_min</th><th scope=col>ay_may</th><th scope=col>⋯</th><th scope=col>az_mean</th><th scope=col>az_sd</th><th scope=col>az_min</th><th scope=col>az_maz</th><th scope=col>az_median</th><th scope=col>aT_mean</th><th scope=col>aT_sd</th><th scope=col>aT_min</th><th scope=col>aT_maT</th><th scope=col>aT_median</th></tr>\n",
       "\t<tr><th scope=col>&lt;fct&gt;</th><th scope=col>&lt;dbl&gt;</th><th scope=col>&lt;dbl&gt;</th><th scope=col>&lt;dbl&gt;</th><th scope=col>&lt;dbl&gt;</th><th scope=col>&lt;dbl&gt;</th><th scope=col>&lt;dbl&gt;</th><th scope=col>&lt;dbl&gt;</th><th scope=col>&lt;dbl&gt;</th><th scope=col>&lt;dbl&gt;</th><th scope=col>⋯</th><th scope=col>&lt;dbl&gt;</th><th scope=col>&lt;dbl&gt;</th><th scope=col>&lt;dbl&gt;</th><th scope=col>&lt;dbl&gt;</th><th scope=col>&lt;dbl&gt;</th><th scope=col>&lt;dbl&gt;</th><th scope=col>&lt;dbl&gt;</th><th scope=col>&lt;dbl&gt;</th><th scope=col>&lt;dbl&gt;</th><th scope=col>&lt;dbl&gt;</th></tr>\n",
       "</thead>\n",
       "<tbody>\n",
       "\t<tr><td>0</td><td>-0.038164706</td><td>0.6594686</td><td>-1.2587</td><td>1.3821</td><td>-0.0955</td><td>-0.0682627451</td><td>0.7506785</td><td>-1.3892</td><td>1.6418</td><td>⋯</td><td>-0.13803333</td><td>0.9845115</td><td>-2.6753</td><td>2.7507</td><td> 0.0254</td><td>1.273216</td><td>0.5830149</td><td>0.400</td><td>3.029</td><td>1.0770</td></tr>\n",
       "\t<tr><td>1</td><td>-0.005806122</td><td>0.6325808</td><td>-1.6194</td><td>1.1943</td><td>-0.0015</td><td> 0.0037908163</td><td>0.7819044</td><td>-1.5625</td><td>1.5428</td><td>⋯</td><td>-0.20496837</td><td>0.9252188</td><td>-3.0774</td><td>2.7158</td><td>-0.2121</td><td>1.263622</td><td>0.5448447</td><td>0.410</td><td>3.197</td><td>1.1375</td></tr>\n",
       "\t<tr><td>2</td><td> 0.069845455</td><td>0.6665500</td><td>-1.4554</td><td>1.4667</td><td> 0.1070</td><td> 0.0744333333</td><td>0.8022922</td><td>-1.4800</td><td>1.7951</td><td>⋯</td><td>-0.06405354</td><td>0.9293866</td><td>-1.8205</td><td>2.4862</td><td>-0.1512</td><td>1.298364</td><td>0.5131552</td><td>0.255</td><td>2.644</td><td>1.2830</td></tr>\n",
       "\t<tr><td>3</td><td> 0.011552525</td><td>0.5511310</td><td>-1.9254</td><td>1.2034</td><td> 0.0675</td><td> 0.0008262626</td><td>0.7894209</td><td>-2.0042</td><td>1.5577</td><td>⋯</td><td>-0.09287879</td><td>0.8893505</td><td>-2.1562</td><td>3.2355</td><td>-0.1672</td><td>1.203848</td><td>0.5125826</td><td>0.393</td><td>3.322</td><td>1.1180</td></tr>\n",
       "\t<tr><td>4</td><td> 0.046688119</td><td>0.6426574</td><td>-1.7805</td><td>1.4837</td><td> 0.0836</td><td>-0.0177594059</td><td>0.7510811</td><td>-1.6629</td><td>1.4369</td><td>⋯</td><td>-0.13990000</td><td>0.9265720</td><td>-1.8515</td><td>3.5451</td><td>-0.1741</td><td>1.226267</td><td>0.5824608</td><td>0.313</td><td>3.597</td><td>1.1720</td></tr>\n",
       "\t<tr><td>5</td><td> 0.006678788</td><td>0.5780957</td><td>-1.4719</td><td>1.4355</td><td> 0.0536</td><td> 0.0013626263</td><td>0.7812245</td><td>-1.6293</td><td>1.6362</td><td>⋯</td><td>-0.16540000</td><td>0.9091516</td><td>-2.5561</td><td>2.9196</td><td>-0.2588</td><td>1.209515</td><td>0.5664847</td><td>0.336</td><td>3.035</td><td>1.1590</td></tr>\n",
       "</tbody>\n",
       "</table>\n"
      ],
      "text/latex": [
       "A tibble: 6 × 21\n",
       "\\begin{tabular}{r|lllllllllllllllllllll}\n",
       " group & ax\\_mean & ax\\_sd & ax\\_min & ax\\_max & ax\\_median & ay\\_mean & ay\\_sd & ay\\_min & ay\\_may & ay\\_median & az\\_mean & az\\_sd & az\\_min & az\\_maz & az\\_median & aT\\_mean & aT\\_sd & aT\\_min & aT\\_maT & aT\\_median\\\\\n",
       " <fct> & <dbl> & <dbl> & <dbl> & <dbl> & <dbl> & <dbl> & <dbl> & <dbl> & <dbl> & <dbl> & <dbl> & <dbl> & <dbl> & <dbl> & <dbl> & <dbl> & <dbl> & <dbl> & <dbl> & <dbl>\\\\\n",
       "\\hline\n",
       "\t 0 & -0.038164706 & 0.6594686 & -1.2587 & 1.3821 & -0.0955 & -0.0682627451 & 0.7506785 & -1.3892 & 1.6418 & -0.19000 & -0.13803333 & 0.9845115 & -2.6753 & 2.7507 &  0.0254 & 1.273216 & 0.5830149 & 0.400 & 3.029 & 1.0770\\\\\n",
       "\t 1 & -0.005806122 & 0.6325808 & -1.6194 & 1.1943 & -0.0015 &  0.0037908163 & 0.7819044 & -1.5625 & 1.5428 &  0.01005 & -0.20496837 & 0.9252188 & -3.0774 & 2.7158 & -0.2121 & 1.263622 & 0.5448447 & 0.410 & 3.197 & 1.1375\\\\\n",
       "\t 2 &  0.069845455 & 0.6665500 & -1.4554 & 1.4667 &  0.1070 &  0.0744333333 & 0.8022922 & -1.4800 & 1.7951 &  0.11860 & -0.06405354 & 0.9293866 & -1.8205 & 2.4862 & -0.1512 & 1.298364 & 0.5131552 & 0.255 & 2.644 & 1.2830\\\\\n",
       "\t 3 &  0.011552525 & 0.5511310 & -1.9254 & 1.2034 &  0.0675 &  0.0008262626 & 0.7894209 & -2.0042 & 1.5577 & -0.00270 & -0.09287879 & 0.8893505 & -2.1562 & 3.2355 & -0.1672 & 1.203848 & 0.5125826 & 0.393 & 3.322 & 1.1180\\\\\n",
       "\t 4 &  0.046688119 & 0.6426574 & -1.7805 & 1.4837 &  0.0836 & -0.0177594059 & 0.7510811 & -1.6629 & 1.4369 & -0.02530 & -0.13990000 & 0.9265720 & -1.8515 & 3.5451 & -0.1741 & 1.226267 & 0.5824608 & 0.313 & 3.597 & 1.1720\\\\\n",
       "\t 5 &  0.006678788 & 0.5780957 & -1.4719 & 1.4355 &  0.0536 &  0.0013626263 & 0.7812245 & -1.6293 & 1.6362 & -0.09910 & -0.16540000 & 0.9091516 & -2.5561 & 2.9196 & -0.2588 & 1.209515 & 0.5664847 & 0.336 & 3.035 & 1.1590\\\\\n",
       "\\end{tabular}\n"
      ],
      "text/markdown": [
       "\n",
       "A tibble: 6 × 21\n",
       "\n",
       "| group &lt;fct&gt; | ax_mean &lt;dbl&gt; | ax_sd &lt;dbl&gt; | ax_min &lt;dbl&gt; | ax_max &lt;dbl&gt; | ax_median &lt;dbl&gt; | ay_mean &lt;dbl&gt; | ay_sd &lt;dbl&gt; | ay_min &lt;dbl&gt; | ay_may &lt;dbl&gt; | ⋯ ⋯ | az_mean &lt;dbl&gt; | az_sd &lt;dbl&gt; | az_min &lt;dbl&gt; | az_maz &lt;dbl&gt; | az_median &lt;dbl&gt; | aT_mean &lt;dbl&gt; | aT_sd &lt;dbl&gt; | aT_min &lt;dbl&gt; | aT_maT &lt;dbl&gt; | aT_median &lt;dbl&gt; |\n",
       "|---|---|---|---|---|---|---|---|---|---|---|---|---|---|---|---|---|---|---|---|---|\n",
       "| 0 | -0.038164706 | 0.6594686 | -1.2587 | 1.3821 | -0.0955 | -0.0682627451 | 0.7506785 | -1.3892 | 1.6418 | ⋯ | -0.13803333 | 0.9845115 | -2.6753 | 2.7507 |  0.0254 | 1.273216 | 0.5830149 | 0.400 | 3.029 | 1.0770 |\n",
       "| 1 | -0.005806122 | 0.6325808 | -1.6194 | 1.1943 | -0.0015 |  0.0037908163 | 0.7819044 | -1.5625 | 1.5428 | ⋯ | -0.20496837 | 0.9252188 | -3.0774 | 2.7158 | -0.2121 | 1.263622 | 0.5448447 | 0.410 | 3.197 | 1.1375 |\n",
       "| 2 |  0.069845455 | 0.6665500 | -1.4554 | 1.4667 |  0.1070 |  0.0744333333 | 0.8022922 | -1.4800 | 1.7951 | ⋯ | -0.06405354 | 0.9293866 | -1.8205 | 2.4862 | -0.1512 | 1.298364 | 0.5131552 | 0.255 | 2.644 | 1.2830 |\n",
       "| 3 |  0.011552525 | 0.5511310 | -1.9254 | 1.2034 |  0.0675 |  0.0008262626 | 0.7894209 | -2.0042 | 1.5577 | ⋯ | -0.09287879 | 0.8893505 | -2.1562 | 3.2355 | -0.1672 | 1.203848 | 0.5125826 | 0.393 | 3.322 | 1.1180 |\n",
       "| 4 |  0.046688119 | 0.6426574 | -1.7805 | 1.4837 |  0.0836 | -0.0177594059 | 0.7510811 | -1.6629 | 1.4369 | ⋯ | -0.13990000 | 0.9265720 | -1.8515 | 3.5451 | -0.1741 | 1.226267 | 0.5824608 | 0.313 | 3.597 | 1.1720 |\n",
       "| 5 |  0.006678788 | 0.5780957 | -1.4719 | 1.4355 |  0.0536 |  0.0013626263 | 0.7812245 | -1.6293 | 1.6362 | ⋯ | -0.16540000 | 0.9091516 | -2.5561 | 2.9196 | -0.2588 | 1.209515 | 0.5664847 | 0.336 | 3.035 | 1.1590 |\n",
       "\n"
      ],
      "text/plain": [
       "  group ax_mean      ax_sd     ax_min  ax_max ax_median ay_mean       ay_sd    \n",
       "1 0     -0.038164706 0.6594686 -1.2587 1.3821 -0.0955   -0.0682627451 0.7506785\n",
       "2 1     -0.005806122 0.6325808 -1.6194 1.1943 -0.0015    0.0037908163 0.7819044\n",
       "3 2      0.069845455 0.6665500 -1.4554 1.4667  0.1070    0.0744333333 0.8022922\n",
       "4 3      0.011552525 0.5511310 -1.9254 1.2034  0.0675    0.0008262626 0.7894209\n",
       "5 4      0.046688119 0.6426574 -1.7805 1.4837  0.0836   -0.0177594059 0.7510811\n",
       "6 5      0.006678788 0.5780957 -1.4719 1.4355  0.0536    0.0013626263 0.7812245\n",
       "  ay_min  ay_may ⋯ az_mean     az_sd     az_min  az_maz az_median aT_mean \n",
       "1 -1.3892 1.6418 ⋯ -0.13803333 0.9845115 -2.6753 2.7507  0.0254   1.273216\n",
       "2 -1.5625 1.5428 ⋯ -0.20496837 0.9252188 -3.0774 2.7158 -0.2121   1.263622\n",
       "3 -1.4800 1.7951 ⋯ -0.06405354 0.9293866 -1.8205 2.4862 -0.1512   1.298364\n",
       "4 -2.0042 1.5577 ⋯ -0.09287879 0.8893505 -2.1562 3.2355 -0.1672   1.203848\n",
       "5 -1.6629 1.4369 ⋯ -0.13990000 0.9265720 -1.8515 3.5451 -0.1741   1.226267\n",
       "6 -1.6293 1.6362 ⋯ -0.16540000 0.9091516 -2.5561 2.9196 -0.2588   1.209515\n",
       "  aT_sd     aT_min aT_maT aT_median\n",
       "1 0.5830149 0.400  3.029  1.0770   \n",
       "2 0.5448447 0.410  3.197  1.1375   \n",
       "3 0.5131552 0.255  2.644  1.2830   \n",
       "4 0.5125826 0.393  3.322  1.1180   \n",
       "5 0.5824608 0.313  3.597  1.1720   \n",
       "6 0.5664847 0.336  3.035  1.1590   "
      ]
     },
     "metadata": {},
     "output_type": "display_data"
    }
   ],
   "source": [
    "file1$group = as.factor(round(file1$time))\n",
    "file2$group = as.factor(round(file2$time))\n",
    "file3$group = as.factor(round(file3$time))\n",
    "file4$group = as.factor(round(file4$time))\n",
    "#(file1,20)\n",
    "\n",
    "#list of all files\n",
    "files = list(file1, file2, file3, file4)\n",
    "\n",
    "#loop through all files and combine\n",
    "features = NULL\n",
    "for (i in 1:4){\n",
    "res = files[[i]] %>%\n",
    "    group_by(group) %>%\n",
    "    summarize(ax_mean = mean(ax),\n",
    "              ax_sd = sd(ax),\n",
    "              ax_min = min(ax),\n",
    "              ax_max = max(ax),\n",
    "              ax_median = median(ax),\n",
    "              ay_mean = mean(ay),\n",
    "              ay_sd = sd(ay),\n",
    "              ay_min = min(ay),\n",
    "              ay_may = max(ay),\n",
    "              ay_median = median(ay),\n",
    "              az_mean = mean(az),\n",
    "              az_sd = sd(az),\n",
    "              az_min = min(az),\n",
    "              az_maz = max(az),\n",
    "              az_median = median(az),\n",
    "              aT_mean = mean(aT),\n",
    "              aT_sd = sd(aT),\n",
    "              aT_min = min(aT),\n",
    "              aT_maT = max(aT),\n",
    "              aT_median = median(aT)\n",
    "             )\n",
    "    features = rbind(features, res)\n",
    "}\n",
    "\n",
    "#view all features\n",
    "head(features)"
   ]
  },
  {
   "cell_type": "markdown",
   "metadata": {},
   "source": [
    "### Create Train and Test Set\n",
    "To build an anomaly detection model, a train and test set is required. Here, the normal condition of the data is used for training and remaining is used for testing."
   ]
  },
  {
   "cell_type": "code",
   "execution_count": 35,
   "metadata": {},
   "outputs": [],
   "source": [
    "# create train and test set\n",
    "train = features[1:67,2:ncol(features)]\n",
    "test = features[68:nrow(features),2:ncol(features)]"
   ]
  },
  {
   "cell_type": "markdown",
   "metadata": {},
   "source": [
    "### Auto Encoders\n",
    "Autoencoders is an unsupervised version of neural network that is used for data encoding. This technique is mainly used to learn the representation of data that can be used for dimensionality reduction by training network to ignore noise. Autoencoders play an important role in unsupervised learning and deep architectures mainly for transfer learning (Pierre. B, 2012). When autoencoders are decoded, they are simple linear circuits that transforms inputs to outputs with least distortion. Autoencoders were first introduced in 1980’s to address the issue of back propagation without training and rather use input as a teacher (Rumelhart et al., 1986). Since then, autoencoders have taken a phase change to the form on Restricted Boltzman Machine. Today, autoencoders are used in various applications such as predicting sentiment distributions in Natural Language Processing (NLP) (Socher et al., 2011a) (Socher et al., 2011b), feature extraction (Masci et al., 2011), anomaly detection (Sakurada et al., 2014), facial recognition (Gao et al., 2015), clustering (Dilokthanakul et al., 2016), image classification (Geng et al., 2015) and many other application. \n",
    "\n",
    "#### Auto Encoders using H2O package\n",
    "Use the h2o.init() method to initialize H2O. This method accepts the following options. Note that in most cases, simply using h2o.init() is all that a user is required to do."
   ]
  },
  {
   "cell_type": "code",
   "execution_count": 36,
   "metadata": {},
   "outputs": [
    {
     "name": "stdout",
     "output_type": "stream",
     "text": [
      " Connection successful!\n",
      "\n",
      "R is connected to the H2O cluster: \n",
      "    H2O cluster uptime:         51 minutes 33 seconds \n",
      "    H2O cluster timezone:       Etc/UTC \n",
      "    H2O data parsing timezone:  UTC \n",
      "    H2O cluster version:        3.26.0.2 \n",
      "    H2O cluster version age:    3 months and 3 days  \n",
      "    H2O cluster name:           H2O_started_from_R_root_ufj371 \n",
      "    H2O cluster total nodes:    1 \n",
      "    H2O cluster total memory:   28.95 GB \n",
      "    H2O cluster total cores:    1 \n",
      "    H2O cluster allowed cores:  1 \n",
      "    H2O cluster healthy:        TRUE \n",
      "    H2O Connection ip:          localhost \n",
      "    H2O Connection port:        54321 \n",
      "    H2O Connection proxy:       NA \n",
      "    H2O Internal Security:      FALSE \n",
      "    H2O API Extensions:         Amazon S3, XGBoost, Algos, AutoML, Core V3, Core V4 \n",
      "    R Version:                  R version 3.3.3 (2017-03-06) \n",
      "\n"
     ]
    }
   ],
   "source": [
    "# initialize h2o cluser\n",
    "h2o.init()"
   ]
  },
  {
   "cell_type": "markdown",
   "metadata": {},
   "source": [
    "The R object to be converted to an H2O object should be named so that it can be used in subsequent analysis. Also note that the R object is converted to a parsed H2O data object, and will be treated as a data frame by H2O in subsequent analysis."
   ]
  },
  {
   "cell_type": "code",
   "execution_count": 37,
   "metadata": {},
   "outputs": [
    {
     "name": "stdout",
     "output_type": "stream",
     "text": [
      "  |======================================================================| 100%\n",
      "  |======================================================================| 100%\n"
     ]
    }
   ],
   "source": [
    "# convert train and test to h2o object\n",
    "train_h2o = as.h2o(train)\n",
    "test_h2o = as.h2o(test)"
   ]
  },
  {
   "cell_type": "markdown",
   "metadata": {},
   "source": [
    "The h2o.deeplearning function fits H2O's Deep Learning models from within R. While H2O Deep Learning has many parameters, it was designed to be just as easy to use as the other supervised training methods in H2O. Early stopping, automatic data standardization and handling of categorical variables and missing values and adaptive learning rates (per weight) reduce the amount of parameters the user has to specify. Often, it's just the number and sizes of hidden layers, the number of epochs and the activation function and maybe some regularization techniques."
   ]
  },
  {
   "cell_type": "code",
   "execution_count": 38,
   "metadata": {},
   "outputs": [
    {
     "name": "stdout",
     "output_type": "stream",
     "text": [
      "  |======================================================================| 100%\n"
     ]
    }
   ],
   "source": [
    "# build auto encoder model with 3 layers\n",
    "model_unsup = h2o.deeplearning(x = 2:ncol(features)\n",
    "                 , training_frame = train_h2o\n",
    "                 , model_id = \"Test01\"\n",
    "                 , autoencoder = TRUE\n",
    "                 , reproducible = TRUE\n",
    "                 , ignore_const_cols = FALSE\n",
    "                 , seed = 42\n",
    "                 , hidden = c(50,10,50,100,100)\n",
    "                 , epochs = 100\n",
    "                 , activation =\"Tanh\")\n",
    "\n"
   ]
  },
  {
   "cell_type": "code",
   "execution_count": 39,
   "metadata": {},
   "outputs": [
    {
     "data": {
      "text/plain": [
       "Model Details:\n",
       "==============\n",
       "\n",
       "H2OAutoEncoderModel: deeplearning\n",
       "Model ID:  Test01 \n",
       "Status of Neuron Layers: auto-encoder, gaussian distribution, Quadratic loss, 19,179 weights/biases, 236.0 KB, 2,546 training samples, mini-batch size 1\n",
       "  layer units  type dropout       l1       l2 mean_rate rate_rms momentum\n",
       "1     1    19 Input  0.00 %       NA       NA        NA       NA       NA\n",
       "2     2    50  Tanh  0.00 % 0.000000 0.000000  0.029104 0.007101 0.000000\n",
       "3     3    10  Tanh  0.00 % 0.000000 0.000000  0.021010 0.006320 0.000000\n",
       "4     4    50  Tanh  0.00 % 0.000000 0.000000  0.024570 0.006848 0.000000\n",
       "5     5   100  Tanh  0.00 % 0.000000 0.000000  0.052482 0.018357 0.000000\n",
       "6     6   100  Tanh  0.00 % 0.000000 0.000000  0.052677 0.021417 0.000000\n",
       "7     7    19  Tanh      NA 0.000000 0.000000  0.025557 0.009494 0.000000\n",
       "  mean_weight weight_rms mean_bias bias_rms\n",
       "1          NA         NA        NA       NA\n",
       "2    0.000069   0.180678  0.001542 0.017311\n",
       "3    0.000008   0.187546 -0.000435 0.011542\n",
       "4    0.011644   0.184633  0.000371 0.006443\n",
       "5    0.000063   0.113350 -0.000964 0.008983\n",
       "6    0.000581   0.100150  0.001003 0.013848\n",
       "7   -0.001349   0.121616  0.006549 0.012720\n",
       "\n",
       "\n",
       "H2OAutoEncoderMetrics: deeplearning\n",
       "** Reported on training data. **\n",
       "\n",
       "Training Set Metrics: \n",
       "=====================\n",
       "\n",
       "MSE: (Extract with `h2o.mse`) 0.005829827\n",
       "RMSE: (Extract with `h2o.rmse`) 0.0763533\n",
       "\n",
       "\n"
      ]
     },
     "metadata": {},
     "output_type": "display_data"
    }
   ],
   "source": [
    "# view the model\n",
    "model_unsup"
   ]
  },
  {
   "cell_type": "markdown",
   "metadata": {},
   "source": [
    "Detect anomalies in an H2O dataset using an H2O deep learning model with auto-encoding trained previously."
   ]
  },
  {
   "cell_type": "code",
   "execution_count": 40,
   "metadata": {},
   "outputs": [
    {
     "data": {
      "text/html": [
       "<table>\n",
       "<caption>A data.frame: 6 × 2</caption>\n",
       "<thead>\n",
       "\t<tr><th scope=col>Reconstruction.MSE</th><th scope=col>y</th></tr>\n",
       "\t<tr><th scope=col>&lt;dbl&gt;</th><th scope=col>&lt;dbl&gt;</th></tr>\n",
       "</thead>\n",
       "<tbody>\n",
       "\t<tr><td>0.001953387</td><td>0</td></tr>\n",
       "\t<tr><td>0.004875430</td><td>0</td></tr>\n",
       "\t<tr><td>0.002195593</td><td>0</td></tr>\n",
       "\t<tr><td>0.006722837</td><td>0</td></tr>\n",
       "\t<tr><td>0.001670331</td><td>0</td></tr>\n",
       "\t<tr><td>0.005859846</td><td>0</td></tr>\n",
       "</tbody>\n",
       "</table>\n"
      ],
      "text/latex": [
       "A data.frame: 6 × 2\n",
       "\\begin{tabular}{r|ll}\n",
       " Reconstruction.MSE & y\\\\\n",
       " <dbl> & <dbl>\\\\\n",
       "\\hline\n",
       "\t 0.001953387 & 0\\\\\n",
       "\t 0.004875430 & 0\\\\\n",
       "\t 0.002195593 & 0\\\\\n",
       "\t 0.006722837 & 0\\\\\n",
       "\t 0.001670331 & 0\\\\\n",
       "\t 0.005859846 & 0\\\\\n",
       "\\end{tabular}\n"
      ],
      "text/markdown": [
       "\n",
       "A data.frame: 6 × 2\n",
       "\n",
       "| Reconstruction.MSE &lt;dbl&gt; | y &lt;dbl&gt; |\n",
       "|---|---|\n",
       "| 0.001953387 | 0 |\n",
       "| 0.004875430 | 0 |\n",
       "| 0.002195593 | 0 |\n",
       "| 0.006722837 | 0 |\n",
       "| 0.001670331 | 0 |\n",
       "| 0.005859846 | 0 |\n",
       "\n"
      ],
      "text/plain": [
       "  Reconstruction.MSE y\n",
       "1 0.001953387        0\n",
       "2 0.004875430        0\n",
       "3 0.002195593        0\n",
       "4 0.006722837        0\n",
       "5 0.001670331        0\n",
       "6 0.005859846        0"
      ]
     },
     "metadata": {},
     "output_type": "display_data"
    }
   ],
   "source": [
    "# now we need to calculate MSE or anomaly score  \n",
    "anmlt = h2o.anomaly(model_unsup\n",
    "                      , train_h2o\n",
    "                      , per_feature = FALSE) %>% as.data.frame()\n",
    "# create a label for healthy data\n",
    "anmlt$y = 0\n",
    "\n",
    "# view top data\n",
    "head(anmlt)"
   ]
  },
  {
   "cell_type": "markdown",
   "metadata": {},
   "source": [
    "Calulate the threshold value for train anomaly scores. Various methods can be used such as calculating the quantiles, max, median, min etc. It all depends on the use case. Here we will use quantile with probability of 99.9%. "
   ]
  },
  {
   "cell_type": "code",
   "execution_count": 41,
   "metadata": {},
   "outputs": [],
   "source": [
    "# calculate thresholds from train data\n",
    "threshold = quantile(anmlt$Reconstruction.MSE, probs = 0.999)"
   ]
  },
  {
   "cell_type": "markdown",
   "metadata": {},
   "source": [
    "Now, we have anomaly score for train and its thresholds, we can predict the new anomaly scores for test data and plot it to see how it differs from train data. "
   ]
  },
  {
   "cell_type": "code",
   "execution_count": 42,
   "metadata": {},
   "outputs": [],
   "source": [
    "# calculate anomaly scores for test data\n",
    "test_anmlt = h2o.anomaly(model_unsup\n",
    "                      , test_h2o\n",
    "                      , per_feature = FALSE) %>% as.data.frame()\n",
    "\n",
    "# create a label for healthy data\n",
    "test_anmlt$y = 1"
   ]
  },
  {
   "cell_type": "code",
   "execution_count": 43,
   "metadata": {},
   "outputs": [
    {
     "data": {
      "text/html": [
       "<table>\n",
       "<caption>A data.frame: 6 × 3</caption>\n",
       "<thead>\n",
       "\t<tr><th scope=col>Reconstruction.MSE</th><th scope=col>y</th><th scope=col>threshold</th></tr>\n",
       "\t<tr><th scope=col>&lt;dbl&gt;</th><th scope=col>&lt;dbl&gt;</th><th scope=col>&lt;dbl&gt;</th></tr>\n",
       "</thead>\n",
       "<tbody>\n",
       "\t<tr><td>0.001953387</td><td>0</td><td>0.01705935</td></tr>\n",
       "\t<tr><td>0.004875430</td><td>0</td><td>0.01705935</td></tr>\n",
       "\t<tr><td>0.002195593</td><td>0</td><td>0.01705935</td></tr>\n",
       "\t<tr><td>0.006722837</td><td>0</td><td>0.01705935</td></tr>\n",
       "\t<tr><td>0.001670331</td><td>0</td><td>0.01705935</td></tr>\n",
       "\t<tr><td>0.005859846</td><td>0</td><td>0.01705935</td></tr>\n",
       "</tbody>\n",
       "</table>\n"
      ],
      "text/latex": [
       "A data.frame: 6 × 3\n",
       "\\begin{tabular}{r|lll}\n",
       " Reconstruction.MSE & y & threshold\\\\\n",
       " <dbl> & <dbl> & <dbl>\\\\\n",
       "\\hline\n",
       "\t 0.001953387 & 0 & 0.01705935\\\\\n",
       "\t 0.004875430 & 0 & 0.01705935\\\\\n",
       "\t 0.002195593 & 0 & 0.01705935\\\\\n",
       "\t 0.006722837 & 0 & 0.01705935\\\\\n",
       "\t 0.001670331 & 0 & 0.01705935\\\\\n",
       "\t 0.005859846 & 0 & 0.01705935\\\\\n",
       "\\end{tabular}\n"
      ],
      "text/markdown": [
       "\n",
       "A data.frame: 6 × 3\n",
       "\n",
       "| Reconstruction.MSE &lt;dbl&gt; | y &lt;dbl&gt; | threshold &lt;dbl&gt; |\n",
       "|---|---|---|\n",
       "| 0.001953387 | 0 | 0.01705935 |\n",
       "| 0.004875430 | 0 | 0.01705935 |\n",
       "| 0.002195593 | 0 | 0.01705935 |\n",
       "| 0.006722837 | 0 | 0.01705935 |\n",
       "| 0.001670331 | 0 | 0.01705935 |\n",
       "| 0.005859846 | 0 | 0.01705935 |\n",
       "\n"
      ],
      "text/plain": [
       "  Reconstruction.MSE y threshold \n",
       "1 0.001953387        0 0.01705935\n",
       "2 0.004875430        0 0.01705935\n",
       "3 0.002195593        0 0.01705935\n",
       "4 0.006722837        0 0.01705935\n",
       "5 0.001670331        0 0.01705935\n",
       "6 0.005859846        0 0.01705935"
      ]
     },
     "metadata": {},
     "output_type": "display_data"
    }
   ],
   "source": [
    "# combine the train and test anomaly scores for visulaizatio\n",
    "results = data.frame(rbind(anmlt,test_anmlt), threshold)\n",
    "head(results)"
   ]
  },
  {
   "cell_type": "markdown",
   "metadata": {},
   "source": [
    "The results are plotted below. The x axis is the observations and y axis is the anomaly score. The green points are the trained data and red are test data. We can note that all the data that was trained except one lied below the anomaly limit. Its also interesting to note the increasing trend pattern for the anomaly scores for other state of the machine. "
   ]
  },
  {
   "cell_type": "code",
   "execution_count": 44,
   "metadata": {},
   "outputs": [
    {
     "data": {
      "image/png": "[encoded data removed]",
      "text/plain": [
       "Plot with title “Anomaly Detection Results”"
      ]
     },
     "metadata": {},
     "output_type": "display_data"
    }
   ],
   "source": [
    "# Adjust plot sizes\n",
    "options(repr.plot.width = 15, repr.plot.height = 6)\n",
    "plot(results$Reconstruction.MSE, type = 'n', xlab='observations', ylab='Reconstruction.MSE', main = \"Anomaly Detection Results\")\n",
    "points(results$Reconstruction.MSE, pch=19, col=ifelse(results$Reconstruction.MSE < threshold, \"green\", \"red\"))\n",
    "abline(h=threshold, col='red', lwd=2)"
   ]
  },
  {
   "cell_type": "markdown",
   "metadata": {},
   "source": [
    "### Session info\n",
    "Below is the session info for the the packages and their versions used in this analysis. "
   ]
  },
  {
   "cell_type": "code",
   "execution_count": 45,
   "metadata": {},
   "outputs": [
    {
     "data": {
      "text/plain": [
       "R version 3.3.3 (2017-03-06)\n",
       "Platform: x86_64-pc-linux-gnu (64-bit)\n",
       "Running under: Debian GNU/Linux 9 (stretch)\n",
       "\n",
       "locale:\n",
       " [1] LC_CTYPE=C.UTF-8       LC_NUMERIC=C           LC_TIME=C.UTF-8       \n",
       " [4] LC_COLLATE=C.UTF-8     LC_MONETARY=C.UTF-8    LC_MESSAGES=C.UTF-8   \n",
       " [7] LC_PAPER=C.UTF-8       LC_NAME=C              LC_ADDRESS=C          \n",
       "[10] LC_TELEPHONE=C         LC_MEASUREMENT=C.UTF-8 LC_IDENTIFICATION=C   \n",
       "\n",
       "attached base packages:\n",
       "[1] stats     graphics  grDevices utils     datasets  methods   base     \n",
       "\n",
       "other attached packages:\n",
       "[1] h2o_3.26.0.2 dplyr_0.8.3 \n",
       "\n",
       "loaded via a namespace (and not attached):\n",
       " [1] Rcpp_1.0.2          magrittr_1.5        tidyselect_0.2.5   \n",
       " [4] uuid_0.1-2          R6_2.4.0            rlang_0.4.0        \n",
       " [7] tools_3.3.3         htmltools_0.3.6     assertthat_0.2.1   \n",
       "[10] digest_0.6.20       tibble_2.1.3        crayon_1.3.4       \n",
       "[13] IRdisplay_0.7.0     purrr_0.3.2         repr_1.0.1         \n",
       "[16] base64enc_0.1-3     vctrs_0.2.0         bitops_1.0-6       \n",
       "[19] RCurl_1.95-4.12     IRkernel_1.0.2.9000 zeallot_0.1.0      \n",
       "[22] glue_1.3.1          evaluate_0.14       pbdZMQ_0.3-3       \n",
       "[25] pillar_1.4.2        backports_1.1.4     jsonlite_1.6       \n",
       "[28] pkgconfig_2.0.2    "
      ]
     },
     "metadata": {},
     "output_type": "display_data"
    }
   ],
   "source": [
    "sessionInfo()"
   ]
  }
 ],
 "metadata": {
  "kernelspec": {
   "display_name": "R",
   "language": "R",
   "name": "ir"
  },
  "language_info": {
   "codemirror_mode": "r",
   "file_extension": ".r",
   "mimetype": "text/x-r-source",
   "name": "R",
   "pygments_lexer": "r",
   "version": "3.3.3"
  }
 },
 "nbformat": 4,
 "nbformat_minor": 4
}
